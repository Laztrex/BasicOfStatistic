{
 "cells": [
  {
   "cell_type": "code",
   "execution_count": 6,
   "metadata": {
    "collapsed": true,
    "pycharm": {
     "name": "#%%\n"
    }
   },
   "outputs": [],
   "source": [
    "import math\n",
    "import random\n",
    "import pandas as pd\n",
    "import numpy as np\n",
    "import matplotlib.pyplot as plt\n",
    "import scipy.stats as sts\n",
    "%matplotlib inline"
   ]
  },
  {
   "cell_type": "markdown",
   "source": [
    "# Распределение Рэлея (Версия для Python 3)"
   ],
   "metadata": {
    "collapsed": false,
    "pycharm": {
     "name": "#%% md\n"
    }
   }
  },
  {
   "cell_type": "code",
   "execution_count": null,
   "outputs": [],
   "source": [
    "rayleigh_rv = sts.rayleigh()\n",
    "\n",
    "sample_rayleigh = rayleigh_rv.rvs(1000)\n",
    "# на отрезке [0, 30] рисуется...\n",
    "x = np.linspace(0,12,100)\n",
    "# ...гистограмма\n",
    "pdf = rayleigh_rv.pdf(x)\n",
    "plt.hist(sample_rayleigh, density=True, label='sample histogram')\n",
    "# ...и pdf\n",
    "plt.plot(x, pdf, label='theoretical pdf')\n",
    "plt.legend()\n",
    "plt.ylabel('$f(x)$')\n",
    "plt.xlabel('$x$')\n",
    "plt.show()"
   ],
   "metadata": {
    "collapsed": false,
    "pycharm": {
     "name": "#%%\n"
    }
   }
  },
  {
   "cell_type": "code",
   "execution_count": null,
   "outputs": [],
   "source": [
    "# для выборок размера n\n",
    "for n in [1, 5, 10, 50]:\n",
    "    # вычисляется сдеднее из 1000 выборок\n",
    "    sample_means = []\n",
    "    for rvn in range(1000):\n",
    "        means = rayleigh_rv.rvs(size=n).mean()\n",
    "        sample_means.append(means)\n",
    "    # и вырисовывается на графике\n",
    "    print(len(sample_means))\n",
    "    plt.hist(sample_means, 20, density=True, label='sample means histogram')\n",
    "    # вычисляется pdf нормального распределения с данными параметрами (каждый раз одинково)\n",
    "    norm_rv = sts.norm((math.pi / 2) ** .5, ((2 - math.pi / 2) / n) ** .5)\n",
    "    x = np.linspace(0, 12, 100)\n",
    "    pdf = norm_rv.pdf(x)\n",
    "    # и вырисовывается на графике\n",
    "    plt.plot(x, pdf, label='norm theoretical pdf')\n",
    "    # легенда графика\n",
    "    plt.legend()\n",
    "    plt.title(\"Sample size %d\" % n)\n",
    "    plt.ylabel('fraction of samples $f(x)$')\n",
    "    plt.xlabel('sample mean $x$')\n",
    "    plt.show()"
   ],
   "metadata": {
    "collapsed": false,
    "pycharm": {
     "name": "#%%\n"
    }
   }
  },
  {
   "cell_type": "code",
   "execution_count": null,
   "outputs": [],
   "source": [],
   "metadata": {
    "collapsed": false,
    "pycharm": {
     "name": "#%%\n"
    }
   }
  }
 ],
 "metadata": {
  "kernelspec": {
   "display_name": "Python 3",
   "language": "python",
   "name": "python3"
  },
  "language_info": {
   "codemirror_mode": {
    "name": "ipython",
    "version": 2
   },
   "file_extension": ".py",
   "mimetype": "text/x-python",
   "name": "python",
   "nbconvert_exporter": "python",
   "pygments_lexer": "ipython2",
   "version": "2.7.6"
  }
 },
 "nbformat": 4,
 "nbformat_minor": 0
}