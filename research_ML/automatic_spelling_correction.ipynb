{
 "cells": [
  {
   "cell_type": "markdown",
   "metadata": {
    "collapsed": true
   },
   "source": [
    "# Автокорректор ошибок на Python"
   ]
  },
  {
   "cell_type": "markdown",
   "metadata": {},
   "source": [
    "На основе блокнота Питера Норвига, Google"
   ]
  },
  {
   "cell_type": "code",
   "execution_count": 1,
   "metadata": {},
   "outputs": [
    {
     "name": "stdout",
     "output_type": "stream",
     "text": [
      "Populating the interactive namespace from numpy and matplotlib\n"
     ]
    }
   ],
   "source": [
    "%pylab inline\n",
    "import re\n",
    "import math\n",
    "from collections import Counter\n",
    "import requests"
   ]
  },
  {
   "cell_type": "markdown",
   "metadata": {},
   "source": [
    "Получим \"модель\" грамматически правильного текста"
   ]
  },
  {
   "cell_type": "code",
   "execution_count": 3,
   "metadata": {},
   "outputs": [
    {
     "data": {
      "text/plain": [
       "6488666"
      ]
     },
     "execution_count": 3,
     "metadata": {},
     "output_type": "execute_result"
    }
   ],
   "source": [
    "TEXT = requests.get('http://norvig.com/big.txt').text\n",
    "len(TEXT)"
   ]
  },
  {
   "cell_type": "markdown",
   "metadata": {},
   "source": [
    "Теперь нужно разбить текст на слова (aka токены). Сосредоточимся только на словах, состоящих из букв. "
   ]
  },
  {
   "cell_type": "code",
   "execution_count": 4,
   "metadata": {},
   "outputs": [],
   "source": [
    "def tokens(text):\n",
    "    \"\"\"Возвращает список токенов (подряд идущих буквенных последовательностей) в тексте.\n",
    "    Также приводим текст к нижнему регистру\"\"\"\n",
    "    return re.findall(r'[a-z]+', text.lower())"
   ]
  },
  {
   "cell_type": "code",
   "execution_count": 5,
   "metadata": {},
   "outputs": [
    {
     "data": {
      "text/plain": [
       "['this', 'is', 'a', 'test', 'this', 'is']"
      ]
     },
     "execution_count": 5,
     "metadata": {},
     "output_type": "execute_result"
    }
   ],
   "source": [
    "tokens('This is: A test, 1 , 2, 3. this is.')"
   ]
  },
  {
   "cell_type": "code",
   "execution_count": 7,
   "metadata": {},
   "outputs": [
    {
     "data": {
      "text/plain": [
       "1105285"
      ]
     },
     "execution_count": 7,
     "metadata": {},
     "output_type": "execute_result"
    }
   ],
   "source": [
    "WORDS = tokens(TEXT)\n",
    "len(WORDS)"
   ]
  },
  {
   "cell_type": "code",
   "execution_count": 8,
   "metadata": {},
   "outputs": [
    {
     "name": "stdout",
     "output_type": "stream",
     "text": [
      "['the', 'project', 'gutenberg', 'ebook', 'of', 'the', 'adventures', 'of', 'sherlock', 'holmes']\n"
     ]
    }
   ],
   "source": [
    "print(WORDS[:10])"
   ]
  },
  {
   "cell_type": "markdown",
   "metadata": {},
   "source": [
    "Сейчас слова появляются в списке в том порядке, как они располагались в тексте."
   ]
  },
  {
   "cell_type": "markdown",
   "metadata": {},
   "source": [
    "## Model: Bag of Words"
   ]
  },
  {
   "cell_type": "markdown",
   "metadata": {},
   "source": [
    "Можем использовать _TEXT_ (список) в качестве *порождающей модели* (generative model) текста. Мы создаём всё же упрощённую модель языка, которая ухватывает часть её сложной структуры. В модели Bag if Words игнорируется порядок слов, но соблюдается частота (представить мешок из игры Лото). Почти наверное полученное предложение из мешка будет грамматически некорректным, но слова в этом предложении будут в +- правильной пропорции (более частные будут встречаться чаще, более редкие - реже). \n",
    "Напишем функцию, которая сэмплирует предложение из n слов с помощью данной модели."
   ]
  },
  {
   "cell_type": "code",
   "execution_count": 11,
   "metadata": {},
   "outputs": [],
   "source": [
    "def sample(bag, n=10):\n",
    "    \"\"\"Сэмплируем случайную последовательность из n слов из модели, описанной нашим мешком слов.\"\"\"\n",
    "    return ' '.join(random.choice(bag) for _ in range(n))"
   ]
  },
  {
   "cell_type": "code",
   "execution_count": 12,
   "metadata": {},
   "outputs": [
    {
     "data": {
      "text/plain": [
       "'something gap into of an thrust he constitutions sight a'"
      ]
     },
     "execution_count": 12,
     "metadata": {},
     "output_type": "execute_result"
    }
   ],
   "source": [
    "sample(WORDS)"
   ]
  },
  {
   "cell_type": "markdown",
   "metadata": {},
   "source": [
    "Другое представление мешка слов - Counter. Он содержит в себе ка качестве value кол-во вхождений слова."
   ]
  },
  {
   "cell_type": "code",
   "execution_count": 13,
   "metadata": {},
   "outputs": [
    {
     "data": {
      "text/plain": [
       "Counter({'is': 2, 'this': 1, 'a': 2, 'test': 2, 'it': 1})"
      ]
     },
     "execution_count": 13,
     "metadata": {},
     "output_type": "execute_result"
    }
   ],
   "source": [
    "Counter(tokens('Is this a test? It is a test'))"
   ]
  },
  {
   "cell_type": "code",
   "execution_count": 14,
   "metadata": {},
   "outputs": [
    {
     "name": "stdout",
     "output_type": "stream",
     "text": [
      "[('the', 80030), ('of', 40025), ('and', 38313), ('to', 28766), ('in', 22050), ('a', 21155), ('that', 12512), ('he', 12401), ('was', 11410), ('it', 10681)]\n"
     ]
    }
   ],
   "source": [
    "COUNTS = Counter(WORDS)\n",
    "print(COUNTS.most_common(10))"
   ]
  },
  {
   "cell_type": "code",
   "execution_count": 16,
   "metadata": {},
   "outputs": [
    {
     "name": "stdout",
     "output_type": "stream",
     "text": [
      "80030 the\n",
      "83 rare\n",
      "38313 and\n",
      "0 neverbeforeseen\n",
      "460 words\n"
     ]
    }
   ],
   "source": [
    "for w in tokens('the rare and neverbeforeseen words'):\n",
    "    print(COUNTS[w], w)"
   ]
  },
  {
   "cell_type": "markdown",
   "metadata": {},
   "source": [
    "В 1935 году лингвист Джордж Ципф отметил, что в любом большом тексте n-ое наиболее часто встречающееся слово появляется с частотой - 1/n от частоты наиболее часто встречающегося слова. Это наблюдение получило название _Закона Ципфа_, несмотря на то, что Феликс Ауэрбах заметил это ещё в 1913 году. Если нарисовать частоты слов, начиная от самого часто встречающегося, на log-log-графике, они должны приблизительно следовать прямой линии, если закон Ципфа верен."
   ]
  },
  {
   "cell_type": "code",
   "execution_count": 17,
   "metadata": {},
   "outputs": [
    {
     "data": {
      "text/plain": [
       "29157"
      ]
     },
     "execution_count": 17,
     "metadata": {},
     "output_type": "execute_result"
    }
   ],
   "source": [
    "len(COUNTS)"
   ]
  },
  {
   "cell_type": "code",
   "execution_count": 19,
   "metadata": {},
   "outputs": [
    {
     "data": {
      "text/plain": [
       "[<matplotlib.lines.Line2D at 0x11668908>]"
      ]
     },
     "execution_count": 19,
     "metadata": {},
     "output_type": "execute_result"
    },
    {
     "data": {
      "image/png": "[encoded data removed]",
      "text/plain": [
       "<Figure size 432x288 with 1 Axes>"
      ]
     },
     "metadata": {
      "needs_background": "light"
     },
     "output_type": "display_data"
    }
   ],
   "source": [
    "M = COUNTS['the']\n",
    "yscale('log')\n",
    "xscale('log')\n",
    "title('Частота n-того наиболее часто встречающегося слова и линия 1/n')\n",
    "plot([c for (w, c) in COUNTS.most_common()])\n",
    "plot([M / i for i in range(1, len(COUNTS))])"
   ]
  },
  {
   "cell_type": "markdown",
   "metadata": {},
   "source": [
    "## Проверка правописания"
   ]
  },
  {
   "cell_type": "markdown",
   "metadata": {},
   "source": [
    "**Подход**: найти все кандидаты _c = correct(w)_, достаточно близкие к *w*. Выбрать наиболее вероятный из них.\n",
    "\n",
    "Применим наивный подход: всегда будем брать более близкое слово, если проверки на близость недостаточно, берём слово с максимальной частотой из WORDS. Сейчас измерим близость с помощью расстояния Леверштейна: минимального необходимого количества удалений, перестановок, вставок и замен символов, необходимых, чтобы одно слово превратилось в другое. "
   ]
  },
  {
   "cell_type": "code",
   "execution_count": 20,
   "metadata": {},
   "outputs": [],
   "source": [
    "def correct(word):\n",
    "    \"\"\"Поиск лучшего исправления ошибки для слова\"\"\"\n",
    "    candidates = (known(edits0(word)) or\n",
    "                 known(edits1(word)) or\n",
    "                 known(edits2(word)) or\n",
    "                 [word])\n",
    "    return max(candidates, key=COUNTS.get)"
   ]
  },
  {
   "cell_type": "code",
   "execution_count": 22,
   "metadata": {},
   "outputs": [],
   "source": [
    "def known(words):\n",
    "    \"\"\"Вернуть множество слов, которые есть в нашем словаре\"\"\"\n",
    "    return {w for w in words if w in COUNTS}\n",
    "\n",
    "def edits0(word):\n",
    "    \"\"\"Вернуть все строки, которые находятся на edit_distance == 0 от word\"\"\"\n",
    "    return {word}\n",
    "\n",
    "def edits2(word):\n",
    "    \"\"\"Вернуть все строки, которые находятся на edit_distance == 1 от word\"\"\"\n",
    "    return {e2 for e1 in edits1(word) for e2 in edits1(e1)}"
   ]
  },
  {
   "cell_type": "code",
   "execution_count": 24,
   "metadata": {},
   "outputs": [],
   "source": [
    "from string import ascii_lowercase as alphabet\n",
    "\n",
    "def edits1(word):\n",
    "    \"\"\"Возвращает список всех строк на расстоянии edit_distance == 1 от word\"\"\"\n",
    "    pairs = splits(word)\n",
    "    deletes = [a + b[1:]                     for (a, b) in pairs if b]\n",
    "    transposes = [a + b[1:] + b[0] + b[2:]   for (a, b) in pairs if len(b) > 1]\n",
    "    replaces = [a + c + b[1:]                for (a, b) in pairs \n",
    "                                                 for c in alphabet if b]\n",
    "    inserts = [a + c + b                     for (a, b) in pairs \n",
    "                                                 for c in alphabet]\n",
    "    \n",
    "    return set(deletes + transposes + replaces + inserts)\n",
    "    \n",
    "def splits(word):\n",
    "    \"\"\"Возвращает список всех возможных разбиений слова на пару (a, b)\"\"\"\n",
    "    return [(word[:i], word[i:]) for i in range(len(word) + 1)]"
   ]
  },
  {
   "cell_type": "code",
   "execution_count": 25,
   "metadata": {},
   "outputs": [
    {
     "data": {
      "text/plain": [
       "[('', 'wirds'),\n",
       " ('w', 'irds'),\n",
       " ('wi', 'rds'),\n",
       " ('wir', 'ds'),\n",
       " ('wird', 's'),\n",
       " ('wirds', '')]"
      ]
     },
     "execution_count": 25,
     "metadata": {},
     "output_type": "execute_result"
    }
   ],
   "source": [
    "splits('wirds')"
   ]
  },
  {
   "cell_type": "code",
   "execution_count": 26,
   "metadata": {},
   "outputs": [
    {
     "name": "stdout",
     "output_type": "stream",
     "text": [
      "{'wird'}\n"
     ]
    }
   ],
   "source": [
    "print(edits0('wird'))"
   ]
  },
  {
   "cell_type": "code",
   "execution_count": 27,
   "metadata": {},
   "outputs": [
    {
     "name": "stdout",
     "output_type": "stream",
     "text": [
      "{'wire', 'vird', 'wirkd', 'wixd', 'wtird', 'wirdu', 'cwird', 'wfird', 'wcrd', 'wiwrd', 'wiwd', 'wirq', 'bwird', 'wird', 'lird', 'wirdw', 'wcird', 'xird', 'vwird', 'wdird', 'wijrd', 'wuird', 'wwird', 'wibrd', 'wirdg', 'qird', 'wirdy', 'wdrd', 'widd', 'wnrd', 'wirdv', 'wbird', 'wmrd', 'weird', 'whrd', 'wirds', 'hwird', 'wirx', 'wmird', 'wiro', 'wirj', 'widrd', 'wimrd', 'wirb', 'wivrd', 'wixrd', 'wirtd', 'wirxd', 'wirid', 'wiry', 'wifrd', 'wrird', 'oird', 'wirdt', 'wirdc', 'wfrd', 'wikrd', 'wiru', 'wrrd', 'wiurd', 'wicd', 'cird', 'dird', 'wivd', 'wigrd', 'wirv', 'lwird', 'wirk', 'wirde', 'wirz', 'wirsd', 'twird', 'owird', 'mird', 'wiod', 'wirf', 'kird', 'wirjd', 'wirgd', 'wid', 'wqird', 'wirdn', 'wirh', 'winrd', 'wirpd', 'wiad', 'wijd', 'rird', 'swird', 'wisrd', 'wizrd', 'ewird', 'zwird', 'werd', 'dwird', 'wlrd', 'wirnd', 'wirud', 'ywird', 'wgird', 'wirhd', 'wjird', 'wiord', 'wirdf', 'wirrd', 'hird', 'word', 'iwird', 'wirr', 'wirdj', 'wiryd', 'wkird', 'irdwrd', 'wiyrd', 'wiqd', 'wild', 'wizd', 'wiird', 'wirfd', 'wirg', 'ward', 'wrdid', 'wierd', 'pird', 'nwird', 'wikd', 'rwird', 'wirn', 'wired', 'wisd', 'wbrd', 'wiid', 'wnird', 'fwird', 'jird', 'uwird', 'wirdo', 'aird', 'wpird', 'wirs', 'wiard', 'wirdi', 'wihd', 'wirda', 'wzrd', 'wirdq', 'woird', 'wirl', 'wvrd', 'wwrd', 'wlird', 'wimd', 'wvird', 'gird', 'wyrd', 'wtrd', 'zird', 'wxrd', 'wiyd', 'jwird', 'wirdd', 'wirdl', 'fird', 'uird', 'awird', 'wirc', 'qwird', 'widr', 'wiprd', 'wira', 'yird', 'wyird', 'xwird', 'wurd', 'wirmd', 'wiud', 'wgrd', 'wsird', 'eird', 'mwird', 'wirt', 'wirdx', 'wirbd', 'wied', 'wiri', 'wirw', 'wigd', 'wirdr', 'wzird', 'sird', 'wirm', 'witd', 'wirld', 'waird', 'wirdk', 'nird', 'wirzd', 'tird', 'whird', 'wicrd', 'wsrd', 'wircd', 'wifd', 'wilrd', 'iird', 'wkrd', 'gwird', 'witrd', 'wirdp', 'wibd', 'wind', 'wrd', 'pwird', 'wipd', 'wirdb', 'wirvd', 'wirqd', 'wirdh', 'wirad', 'wir', 'ird', 'kwird', 'wiqrd', 'wirwd', 'wxird', 'wirdz', 'wirdm', 'bird', 'wjrd', 'wqrd', 'wirod', 'wirp', 'wprd', 'wihrd'}\n"
     ]
    }
   ],
   "source": [
    "print(edits1('wird'))"
   ]
  },
  {
   "cell_type": "code",
   "execution_count": 28,
   "metadata": {},
   "outputs": [
    {
     "name": "stdout",
     "output_type": "stream",
     "text": [
      "24953\n"
     ]
    }
   ],
   "source": [
    "print(len(edits2('wird')))"
   ]
  },
  {
   "cell_type": "code",
   "execution_count": null,
   "metadata": {},
   "outputs": [],
   "source": []
  }
 ],
 "metadata": {
  "kernelspec": {
   "display_name": "Python 3",
   "language": "python",
   "name": "python3"
  },
  "language_info": {
   "codemirror_mode": {
    "name": "ipython",
    "version": 3
   },
   "file_extension": ".py",
   "mimetype": "text/x-python",
   "name": "python",
   "nbconvert_exporter": "python",
   "pygments_lexer": "ipython3",
   "version": "3.7.5"
  }
 },
 "nbformat": 4,
 "nbformat_minor": 1
}
