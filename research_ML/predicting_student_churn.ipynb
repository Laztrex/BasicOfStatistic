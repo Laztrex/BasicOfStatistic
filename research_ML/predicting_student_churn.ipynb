{
 "cells": [
  {
   "cell_type": "code",
   "execution_count": null,
   "metadata": {},
   "outputs": [],
   "source": [
    "%load_ext autoreload\n",
    "%autoreload 2\n",
    "\n",
    "import sys\n",
    "import os\n",
    "\n",
    "import pandas as pd\n",
    "import numpy as np\n",
    "import matplotlib.pyplot as plt\n",
    "%matplotlib inline\n",
    "\n",
    "import datetime\n",
    "import collections\n",
    "\n",
    "from sklearn.ensemble import RandomForestClassifier\n",
    "from sklearn.model_selection import train_test_split, cross_val_score\n",
    "from sklearn.metrics import classification_report, roc_auc_score, confusion_matrix\n",
    "\n",
    "sys.path.append(os.path.join(sys.path[0], '../'))\n",
    "\n",
    "\n",
    "from IPython.core.interactiveshell import InteractiveShell\n",
    "InteractiveShell.ast_node_interactivity = \"all\""
   ]
  },
  {
   "cell_type": "code",
   "execution_count": null,
   "metadata": {},
   "outputs": [],
   "source": [
    "events_data  = pd.read_csv(f\"../event_data_train.csv\")\n",
    "submissions_data = pd.read_csv(f\"../submissions_data_train.csv\")\n",
    "\n",
    "DATA_PERIOD_DAYS = 2"
   ]
  },
  {
   "cell_type": "code",
   "execution_count": null,
   "metadata": {},
   "outputs": [],
   "source": [
    "def preprocess_timestamp_cols(data):\n",
    "    \"\"\" \n",
    "    Parameters\n",
    "    ----------\n",
    "    data : pd.DataFrame\n",
    "        данные с действиями пользователя\n",
    "    \"\"\"\n",
    "    data['date'] = pd.to_datetime(data.timestamp, unit='s')\n",
    "    data['day'] = data.date.dt.date\n",
    "    return data"
   ]
  },
  {
   "cell_type": "code",
   "execution_count": null,
   "metadata": {},
   "outputs": [],
   "source": [
    "def truncate_data_by_nday(data, n_day):\n",
    "    \"\"\" Взять события из n_day первых дней по каждому пользователю \n",
    "        Parameters\n",
    "        ----------\n",
    "        data: pandas.DataFrame\n",
    "            действия студентов со степами или практикой\n",
    "        n_day : int\n",
    "            размер тестовой выборки\n",
    "    \"\"\"\n",
    "    users_min_time = data.groupby('user_id', as_index=False).agg({'timestamp': 'min'}).rename(\n",
    "        {'timestamp': 'min_timestamp'}, axis=1)\n",
    "    users_min_time['min_timestamp'] += 60 * 60 * 24 * n_day\n",
    "\n",
    "    events_data_d = pd.merge(data, users_min_time, how='inner', on='user_id')\n",
    "    cond = events_data_d['timestamp'] <= events_data_d['min_timestamp']\n",
    "    events_data_d = events_data_d[cond]\n",
    "\n",
    "    assert events_data_d.user_id.nunique() == data.user_id.nunique()\n",
    "    return events_data_d.drop(['min_timestamp'], axis=1)"
   ]
  },
  {
   "cell_type": "code",
   "execution_count": null,
   "metadata": {},
   "outputs": [],
   "source": [
    "def create_user_data(events, submissions):\n",
    "    \"\"\" создать таблицу с данными по каждому пользователю\n",
    "    Parameters\n",
    "    ----------\n",
    "    events : pd.DataFrame\n",
    "        данные с действиями пользователя\n",
    "    submissions : pd.DataFrame\n",
    "        данные самбитов практики\n",
    "    \"\"\"\n",
    "    users_data = events.groupby('user_id', as_index=False) \\\n",
    "        .agg({'timestamp': 'max'}).rename(columns={'timestamp': 'last_timestamp'})\n",
    "\n",
    "    # попытки сдачи практики пользователя\n",
    "    users_scores = submissions.pivot_table(index='user_id',\n",
    "                                           columns='submission_status',\n",
    "                                           values='step_id',\n",
    "                                           aggfunc='count',\n",
    "                                           fill_value=0).reset_index()\n",
    "    users_data = users_data.merge(users_scores, on='user_id', how='outer')\n",
    "    users_data = users_data.fillna(0)\n",
    "\n",
    "    # колво разных событий пользователя по урокам\n",
    "    users_events_data = events.pivot_table(index='user_id',\n",
    "                                           columns='action',\n",
    "                                           values='step_id',\n",
    "                                           aggfunc='count',\n",
    "                                           fill_value=0).reset_index()\n",
    "    users_data = users_data.merge(users_events_data, how='outer')\n",
    "\n",
    "    # колво дней на курсе\n",
    "    users_days = events.groupby('user_id').day.nunique().to_frame().reset_index()\n",
    "    users_data = users_data.merge(users_days, how='outer')\n",
    "\n",
    "    return users_data"
   ]
  },
  {
   "cell_type": "code",
   "execution_count": null,
   "metadata": {},
   "outputs": [],
   "source": [
    "def create_interaction(events, submissions):\n",
    "    \"\"\" объединить все данные по взаимодействию\n",
    "    Parameters\n",
    "    ----------\n",
    "    events : pd.DataFrame\n",
    "        данные с действиями пользователя\n",
    "    submissions : pd.DataFrame\n",
    "        данные самбитов практики\n",
    "    \"\"\"\n",
    "    interact_train = pd.concat([events, submissions.rename(columns={'submission_status': 'action'})])\n",
    "    interact_train.action = pd.Categorical(interact_train.action,\n",
    "                                           ['discovered', 'viewed', 'started_attempt',\n",
    "                                            'wrong', 'passed', 'correct'], ordered=True)\n",
    "    interact_train = interact_train.sort_values(['user_id', 'timestamp', 'action'])\n",
    "    return interact_train"
   ]
  },
  {
   "cell_type": "code",
   "execution_count": null,
   "metadata": {},
   "outputs": [],
   "source": [
    "def get_label(events, submissions, course_threshold=40, target_action='correct'):\n",
    "    \"\"\" создать метку  (целевая переменная для прогноза is_gone\n",
    "    Parameters\n",
    "    ----------\n",
    "    events : pd.DataFrame\n",
    "        данные с действиями пользователя\n",
    "    submissions : pd.DataFrame\n",
    "        данные самбитов практики\n",
    "    course_threshold : int\n",
    "        порог в колве заданий, когда курс считается пройденным\n",
    "    target_action: string\n",
    "        название действия по степу, по колву которых мы рассчитываем целевую переменную \n",
    "    \"\"\"\n",
    "    interactions = create_interaction(events, submissions)\n",
    "    users_data = interactions[['user_id']].drop_duplicates()\n",
    "\n",
    "    assert target_action in interactions.action.unique()\n",
    "\n",
    "    # вместо count по хорошему нужно брать уникальные степы. Потому что correct может встречаться более 1 раза\n",
    "    passed_steps = (interactions.query(\"action == @target_action\")\n",
    "                    .groupby('user_id', as_index=False)['step_id'].agg(lambda a: len(np.unique(a)))\n",
    "                    .rename(columns={'step_id': target_action}))\n",
    "    users_data = users_data.merge(passed_steps, how='outer')\n",
    "\n",
    "    # пройден ли курс\n",
    "    users_data['is_gone'] = users_data[target_action] > course_threshold\n",
    "    assert users_data.user_id.nunique() == events.user_id.nunique()\n",
    "    users_data = (users_data.drop(target_action, axis=1)\n",
    "                  .set_index('user_id'))\n",
    "    return users_data['is_gone']"
   ]
  },
  {
   "cell_type": "code",
   "execution_count": null,
   "metadata": {},
   "outputs": [],
   "source": [
    "def safe_drop_cols_df(df, drop_cols):\n",
    "    \"\"\" Удаление столбцов из датафрейма с проверкой на их существование.\n",
    "    Изменяет переданный датафрейм\n",
    "    \n",
    "    Parameters\n",
    "    ----------\n",
    "    df: pandas.DataFrame\n",
    "        датафрейм\n",
    "    drop_cols: list of string\n",
    "        Список столбцов которые нужно удалить\n",
    "    \"\"\"\n",
    "\n",
    "    if isinstance(drop_cols, str) or (not isinstance(drop_cols, collections.Iterable)):\n",
    "        drop_cols = [drop_cols]\n",
    "    drop_col_names = np.intersect1d(df.columns, drop_cols)\n",
    "    df.drop(drop_col_names, axis=1, inplace=True)"
   ]
  },
  {
   "cell_type": "code",
   "execution_count": null,
   "metadata": {},
   "outputs": [],
   "source": [
    "def get_labels_metrics(events, submissions):\n",
    "    \"\"\"\" создадим признаки и метку\n",
    "     \n",
    "    Parameters\n",
    "    ----------\n",
    "    events: pandas.DataFrame\n",
    "        действия студентов со степами\n",
    "    submissions: pandas.DataFrame\n",
    "        действия студентов по практике     \n",
    "     \"\"\"\n",
    "    events_train = preprocess_timestamp_cols(events)\n",
    "    events_train = truncate_data_by_nday(events_train, DATA_PERIOD_DAYS)\n",
    "\n",
    "    submissions_train = preprocess_timestamp_cols(submissions)\n",
    "    submissions_train = truncate_data_by_nday(submissions_train, DATA_PERIOD_DAYS)\n",
    "\n",
    "    X = create_user_data(events_train, submissions_train)\n",
    "    X = X.set_index('user_id')\n",
    "    safe_drop_cols_df(X, ['last_timestamp'])\n",
    "\n",
    "    y = get_label(events, submissions, 40, 'correct')\n",
    "\n",
    "    # после создания признаков и метки порядок следования user_id может не совпадать\n",
    "    X = X.sort_index()\n",
    "    y = y.sort_index()\n",
    "    assert X.shape[0] == y.shape[0]\n",
    "    return X, y"
   ]
  },
  {
   "cell_type": "code",
   "execution_count": null,
   "metadata": {},
   "outputs": [],
   "source": [
    "X, y = get_labels_metrics(events_data, submissions_data)"
   ]
  },
  {
   "cell_type": "code",
   "execution_count": null,
   "metadata": {},
   "outputs": [],
   "source": [
    "X.shape"
   ]
  },
  {
   "cell_type": "code",
   "execution_count": null,
   "metadata": {},
   "outputs": [],
   "source": [
    "# разделение данных для обучения на train и test\n",
    "X_train, X_test, y_train, y_test = train_test_split(X, y, test_size=0.1, stratify=y)\n",
    "print ('X_train shape', X_train.shape)\n",
    "y_train.value_counts(dropna=False)"
   ]
  },
  {
   "cell_type": "markdown",
   "metadata": {},
   "source": [
    "# ОБУЧЕНИЕ"
   ]
  },
  {
   "cell_type": "code",
   "execution_count": 39,
   "metadata": {},
   "outputs": [
    {
     "data": {
      "text/plain": [
       "RandomForestClassifier(class_weight='balanced', min_samples_leaf=10,\n",
       "                       min_samples_split=10, n_jobs=2)"
      ]
     },
     "execution_count": 39,
     "metadata": {},
     "output_type": "execute_result"
    },
    {
     "name": "stdout",
     "output_type": "stream",
     "text": [
      "roc на test 0.8840243697074673\n"
     ]
    }
   ],
   "source": [
    "# METHOD 1\n",
    "# clf_rf = RandomForestClassifier(n_estimators=100, n_jobs=2, \n",
    "#                             min_samples_leaf=10, min_samples_split=10, \n",
    "#                             class_weight='balanced')\n",
    "\n",
    "# clf_rf.fit(X_train, y_train)\n",
    "# pred_proba = clf_rf.predict_proba(X_test)\n",
    "# roc_score = roc_auc_score(y_test, pred_proba[:, 1])\n",
    "# print('roc на test', roc_score)"
   ]
  },
  {
   "cell_type": "code",
   "execution_count": null,
   "metadata": {},
   "outputs": [],
   "source": [
    "#METHOD 2\n",
    "from sklearn.model_selection import GridSearchCV\n",
    "\n",
    "clf_rf = RandomForestClassifier()z\n",
    "parametrs = {'n_estimators': range(10, 80, 10), 'max_depth': range(1, 13, 2), \n",
    "             'min_samples_leaf': range(1, 11), 'min_samples_split': range(2, 13, 2)}\n",
    "\n",
    "grid_search_cv_clf = GridSearchCV(clf_rf, parametrs, cv=3, n_jobs=-1)\n",
    "\n",
    "grid_search_cv_clf.fit(X_train, y_train)\n",
    "grid_search_cv_clf.best_params_\n",
    "\n",
    "best_clf = grid_search_cv_clf.best_estimator_\n",
    "\n",
    "pred_proba = best_clf.predict_proba(X_test)\n",
    "roc_score = roc_auc_score(y_test, pred_proba[:, 1])\n",
    "print('roc на test', roc_score)"
   ]
  },
  {
   "cell_type": "code",
   "execution_count": null,
   "metadata": {},
   "outputs": [],
   "source": [
    "# METHOD 3\n",
    "# research n_estimators\n",
    "from sklearn.tree import DecisionTreeClassifier\n",
    "from sklearn.ensemble import BaggingClassifier\n",
    "\n",
    "\n",
    "num_trees = np.arange(1, 200, 10)\n",
    "num_features = np.arange(1, X.shape[1]+1, 1)\n",
    "depths = np.arange(1, 100, 5)\n",
    "\n",
    "a = []\n",
    "nn = 0\n",
    "for i in num_trees:\n",
    "    nn += 1\n",
    "    print(nn)\n",
    "    temp_tree = DecisionTreeClassifier(splitter='best')\n",
    "    temp_model = BaggingClassifier(temp_tree, n_estimators=i)\n",
    "    temp_score = cross_val_score(temp_model, X, y, cv=10)\n",
    "    a.append(np.mean(temp_score))\n",
    "\n",
    "plt.plot(num_trees, a)\n",
    "plt.xlabel(\"num_trees\")\n",
    "plt.ylabel(\"Score\")\n"
   ]
  },
  {
   "cell_type": "code",
   "execution_count": null,
   "metadata": {},
   "outputs": [],
   "source": [
    "# research max_features\n",
    "a = []\n",
    "nn = 0\n",
    "for i in num_features:\n",
    "    nn += 1\n",
    "    print(nn)\n",
    "    temp_tree = DecisionTreeClassifier(splitter='best', max_features=i)\n",
    "    temp_model = BaggingClassifier(temp_tree, max_features=i)\n",
    "    temp_score = cross_val_score(temp_model, X, y, cv=10)\n",
    "    a.append(np.mean(temp_score))\n",
    "    \n",
    "plt.plot(num_features, a[num_trees.shape[0]:])\n",
    "plt.xlabel(\"num_features\")\n",
    "plt.ylabel(\"Score\")"
   ]
  },
  {
   "cell_type": "code",
   "execution_count": 85,
   "metadata": {},
   "outputs": [
    {
     "name": "stdout",
     "output_type": "stream",
     "text": [
      "1\n",
      "2\n",
      "3\n",
      "4\n",
      "5\n",
      "6\n",
      "7\n",
      "8\n",
      "9\n",
      "10\n",
      "11\n",
      "12\n",
      "13\n",
      "14\n",
      "15\n",
      "16\n",
      "17\n",
      "18\n",
      "19\n",
      "20\n"
     ]
    },
    {
     "data": {
      "text/plain": [
       "[<matplotlib.lines.Line2D at 0x1b7cfb08>]"
      ]
     },
     "execution_count": 85,
     "metadata": {},
     "output_type": "execute_result"
    },
    {
     "data": {
      "text/plain": [
       "Text(0.5, 0, 'depth')"
      ]
     },
     "execution_count": 85,
     "metadata": {},
     "output_type": "execute_result"
    },
    {
     "data": {
      "text/plain": [
       "Text(0, 0.5, 'Score')"
      ]
     },
     "execution_count": 85,
     "metadata": {},
     "output_type": "execute_result"
    },
    {
     "data": {
      "image/png": "[encoded data removed]",
      "text/plain": [
       "<Figure size 432x288 with 1 Axes>"
      ]
     },
     "metadata": {
      "needs_background": "light"
     },
     "output_type": "display_data"
    }
   ],
   "source": [
    "nn = 0\n",
    "b = []\n",
    "for i in depths:\n",
    "    nn += 1\n",
    "    print(nn)\n",
    "    temp_tree = DecisionTreeClassifier(splitter='best', max_depth=i)\n",
    "    temp_model = BaggingClassifier(temp_tree)\n",
    "    temp_score = cross_val_score(temp_model, X, y, cv=10)\n",
    "    b.append(np.mean(temp_score))\n",
    "    \n",
    "plt.plot(depths, b)\n",
    "plt.xlabel(\"depth\")\n",
    "plt.ylabel(\"Score\")"
   ]
  },
  {
   "cell_type": "code",
   "execution_count": 186,
   "metadata": {},
   "outputs": [],
   "source": [
    "clf_random = DecisionTreeClassifier(max_features=1, max_depth=8)\n",
    "bag_model2 = BaggingClassifier(clf_random, n_estimators=155)"
   ]
  },
  {
   "cell_type": "code",
   "execution_count": 187,
   "metadata": {},
   "outputs": [
    {
     "data": {
      "text/plain": [
       "BaggingClassifier(base_estimator=DecisionTreeClassifier(max_depth=8,\n",
       "                                                        max_features=1),\n",
       "                  bootstrap=False, n_estimators=155)"
      ]
     },
     "execution_count": 187,
     "metadata": {},
     "output_type": "execute_result"
    },
    {
     "name": "stdout",
     "output_type": "stream",
     "text": [
      "roc на test 0.8840920299268668\n"
     ]
    }
   ],
   "source": [
    "bag_model2.fit(X_train, y_train)\n",
    "pred_proba = bag_model2.predict_proba(X_test)\n",
    "roc_score = roc_auc_score(y_test, pred_proba[:, 1])\n",
    "print('roc на test', roc_score)"
   ]
  },
  {
   "cell_type": "code",
   "execution_count": 94,
   "metadata": {},
   "outputs": [],
   "source": []
  },
  {
   "cell_type": "code",
   "execution_count": 120,
   "metadata": {},
   "outputs": [
    {
     "data": {
      "text/plain": [
       "correct             3.649007\n",
       "wrong               3.349641\n",
       "discovered         12.364875\n",
       "passed             11.407040\n",
       "started_attempt     4.109754\n",
       "viewed             19.232973\n",
       "day                 1.343038\n",
       "dtype: float64"
      ]
     },
     "execution_count": 120,
     "metadata": {},
     "output_type": "execute_result"
    }
   ],
   "source": []
  },
  {
   "cell_type": "code",
   "execution_count": 180,
   "metadata": {},
   "outputs": [
    {
     "data": {
      "text/plain": [
       "GridSearchCV(cv=10,\n",
       "             estimator=LogisticRegression(class_weight='balanced',\n",
       "                                          fit_intercept=False),\n",
       "             param_grid={'C': [0.01, 0.05, 0.1, 0.5, 1, 5, 10]})"
      ]
     },
     "execution_count": 180,
     "metadata": {},
     "output_type": "execute_result"
    }
   ],
   "source": [
    "# METHOD 4\n",
    "from sklearn.linear_model import LogisticRegression\n",
    "from sklearn.preprocessing import StandardScaler\n",
    "from sklearn.preprocessing import PolynomialFeatures\n",
    "\n",
    "param_grid = {'C': [0.01, 0.05, 0.1, 0.5, 1, 5, 10]}\n",
    "transform = PolynomialFeatures(2)\n",
    "scaler = StandardScaler()\n",
    "X_train_real_scaled = scaler.fit_transform(X_train)\n",
    "X_test_real_scaled = scaler.transform(X_test)\n",
    "\n",
    "estimator = LogisticRegression(class_weight='balanced', fit_intercept=False)\n",
    "optimizer = GridSearchCV(estimator, param_grid, scoring='roc_auc', cv=10)\n",
    "optimizer.fit(X_train_real_scaled, y_train)\n",
    "Z = optimizer.predict_proba(X_test_real_scaled)[:, 1]\n",
    "roc = roc_auc_score(y_test, Z)"
   ]
  },
  {
   "cell_type": "code",
   "execution_count": 181,
   "metadata": {},
   "outputs": [
    {
     "name": "stdout",
     "output_type": "stream",
     "text": [
      "0.8800444452463434\n"
     ]
    },
    {
     "data": {
      "text/plain": [
       "array([[ 1.33441512, -0.1690829 , -0.5361754 ,  0.87260755, -0.18702058,\n",
       "        -0.07809031,  0.18057301]])"
      ]
     },
     "execution_count": 181,
     "metadata": {},
     "output_type": "execute_result"
    }
   ],
   "source": [
    "print(roc)\n",
    "estimator = optimizer.best_estimator_\n",
    "estimator.coef_"
   ]
  },
  {
   "cell_type": "code",
   "execution_count": 42,
   "metadata": {},
   "outputs": [],
   "source": [
    "# METHOD 5\n",
    "import xgboost as xgb\n",
    "from xgboost import XGBClassifier\n",
    "from sklearn.model_selection import GridSearchCV"
   ]
  },
  {
   "cell_type": "code",
   "execution_count": null,
   "metadata": {},
   "outputs": [],
   "source": [
    "def xgb_classifier(X_train, X_test, y_train, y_test, useTrainCV=True, cv_folds=5, early_stopping_rounds=50):\n",
    "    \"\"\"\n",
    "    \"\"\"\n",
    "#     alg = XGBClassifier(learning_rate=0.1, n_estimators=175, max_depth=8,\n",
    "#                         min_child_weight=2, gamma=0.2, subsample=0.6, colsample_bytree=1.0,\n",
    "#                         objective='binary:logistic', nthread=4, scale_pos_weight=1, seed=27)\n",
    "\n",
    "    if useTrainCV:\n",
    "        print(\"Start Feeding Data\")\n",
    "        xgb_param = alg.get_xgb_params()\n",
    "        xgtrain = xgb.DMatrix(X_train.values, label=y_train.values)\n",
    "        # xgtest = xgb.DMatrix(X_test.values, label=y_test.values)\n",
    "        cvresult = xgb.cv(xgb_param, xgtrain, num_boost_round=alg.get_params()['n_estimators'], nfold=cv_folds,\n",
    "                          early_stopping_rounds=early_stopping_rounds)\n",
    "        alg.set_params(n_estimators=cvresult.shape[0])\n",
    "\n",
    "#     print('Start Training')\n",
    "#     alg.fit(X_train, y_train, eval_metric='auc')\n",
    "\n",
    "    param_test1 = {'n_estimators': range(10, 80, 10), 'max_depth': range(1, 13, 2), 'min_child_weight':range(1, 11)}\n",
    "    gsearch1 = GridSearchCV(estimator=XGBClassifier(),\n",
    "                                                    param_grid=param_test1,\n",
    "                                                    n_jobs=4, iid=False, cv=3)\n",
    "    gsearch1.fit(X_train, y_train)\n",
    "    print(gsearch1.cv_results_, gsearch1.best_params_, gsearch1.best_score_)\n",
    "    return gsearch1\n",
    "#     print(\"Start Predicting\")\n",
    "#     predictions = alg.predict(X_test)\n",
    "#     return alg.predict_proba(X_test)[:, 1]"
   ]
  },
  {
   "cell_type": "code",
   "execution_count": null,
   "metadata": {},
   "outputs": [],
   "source": [
    "alg = xgb_classifier(X_train, X_test, y_train, y_test, useTrainCV=False)"
   ]
  },
  {
   "cell_type": "code",
   "execution_count": 47,
   "metadata": {},
   "outputs": [
    {
     "data": {
      "text/plain": [
       "XGBClassifier(base_score=0.5, booster='gbtree', colsample_bylevel=1,\n",
       "              colsample_bynode=1, colsample_bytree=1, gamma=0, gpu_id=-1,\n",
       "              importance_type='gain', interaction_constraints='',\n",
       "              learning_rate=0.300000012, max_delta_step=0, max_depth=1,\n",
       "              min_child_weight=8, missing=nan, monotone_constraints='()',\n",
       "              n_estimators=110, n_jobs=0, num_parallel_tree=1, random_state=0,\n",
       "              reg_alpha=0, reg_lambda=1, scale_pos_weight=1, subsample=1,\n",
       "              tree_method='exact', validate_parameters=1, verbosity=None)"
      ]
     },
     "execution_count": 47,
     "metadata": {},
     "output_type": "execute_result"
    }
   ],
   "source": [
    "# pred_proba = alg.predict_proba(X_test)\n",
    "# roc_score = roc_auc_score(y_test, pred_proba[:, 1])\n",
    "# print('roc на test', roc_score)\n",
    "\n",
    "best_clf = alg.best_estimator_\n",
    "best_clf"
   ]
  },
  {
   "cell_type": "code",
   "execution_count": 48,
   "metadata": {},
   "outputs": [
    {
     "name": "stdout",
     "output_type": "stream",
     "text": [
      "roc на test 0.8787228156274056\n"
     ]
    }
   ],
   "source": [
    "pred_proba = best_clf.predict_proba(X_test)\n",
    "roc_score = roc_auc_score(y_test, pred_proba[:, 1])\n",
    "print('roc на test', roc_score)"
   ]
  },
  {
   "cell_type": "code",
   "execution_count": null,
   "metadata": {},
   "outputs": [],
   "source": []
  },
  {
   "cell_type": "code",
   "execution_count": 42,
   "metadata": {},
   "outputs": [
    {
     "data": {
      "text/html": [
       "<div>\n",
       "<style scoped>\n",
       "    .dataframe tbody tr th:only-of-type {\n",
       "        vertical-align: middle;\n",
       "    }\n",
       "\n",
       "    .dataframe tbody tr th {\n",
       "        vertical-align: top;\n",
       "    }\n",
       "\n",
       "    .dataframe thead th {\n",
       "        text-align: right;\n",
       "    }\n",
       "</style>\n",
       "<table border=\"1\" class=\"dataframe\">\n",
       "  <thead>\n",
       "    <tr style=\"text-align: right;\">\n",
       "      <th></th>\n",
       "      <th>weight</th>\n",
       "    </tr>\n",
       "  </thead>\n",
       "  <tbody>\n",
       "    <tr>\n",
       "      <th>correct</th>\n",
       "      <td>0.390768</td>\n",
       "    </tr>\n",
       "    <tr>\n",
       "      <th>wrong</th>\n",
       "      <td>0.143564</td>\n",
       "    </tr>\n",
       "    <tr>\n",
       "      <th>passed</th>\n",
       "      <td>0.130937</td>\n",
       "    </tr>\n",
       "    <tr>\n",
       "      <th>started_attempt</th>\n",
       "      <td>0.124924</td>\n",
       "    </tr>\n",
       "    <tr>\n",
       "      <th>discovered</th>\n",
       "      <td>0.107269</td>\n",
       "    </tr>\n",
       "    <tr>\n",
       "      <th>viewed</th>\n",
       "      <td>0.087266</td>\n",
       "    </tr>\n",
       "    <tr>\n",
       "      <th>day</th>\n",
       "      <td>0.015271</td>\n",
       "    </tr>\n",
       "  </tbody>\n",
       "</table>\n",
       "</div>"
      ],
      "text/plain": [
       "                   weight\n",
       "correct          0.390768\n",
       "wrong            0.143564\n",
       "passed           0.130937\n",
       "started_attempt  0.124924\n",
       "discovered       0.107269\n",
       "viewed           0.087266\n",
       "day              0.015271"
      ]
     },
     "execution_count": 42,
     "metadata": {},
     "output_type": "execute_result"
    }
   ],
   "source": [
    "fimp = get_feature_importances_df(clf_rf.feature_importances_, X_train.columns)\n",
    "fimp.head(15)"
   ]
  },
  {
   "cell_type": "code",
   "execution_count": 92,
   "metadata": {},
   "outputs": [
    {
     "ename": "TypeError",
     "evalue": "__init__() got an unexpected keyword argument 'presort'",
     "output_type": "error",
     "traceback": [
      "\u001b[1;31m---------------------------------------------------------------------------\u001b[0m",
      "\u001b[1;31mTypeError\u001b[0m                                 Traceback (most recent call last)",
      "\u001b[1;32m<ipython-input-92-d775d4a8a48c>\u001b[0m in \u001b[0;36m<module>\u001b[1;34m\u001b[0m\n\u001b[0;32m      1\u001b[0m \u001b[1;31m# значение к метрике на кроссвалидации коррелирует к метрике на степике\u001b[0m\u001b[1;33m\u001b[0m\u001b[1;33m\u001b[0m\u001b[1;33m\u001b[0m\u001b[0m\n\u001b[0;32m      2\u001b[0m \u001b[1;33m\u001b[0m\u001b[0m\n\u001b[1;32m----> 3\u001b[1;33m \u001b[0mrfcv\u001b[0m \u001b[1;33m=\u001b[0m \u001b[0mRandomForestClassifier\u001b[0m\u001b[1;33m(\u001b[0m\u001b[1;33m**\u001b[0m\u001b[0mbest_clf\u001b[0m\u001b[1;33m.\u001b[0m\u001b[0mget_params\u001b[0m\u001b[1;33m(\u001b[0m\u001b[1;33m)\u001b[0m\u001b[1;33m)\u001b[0m\u001b[1;33m\u001b[0m\u001b[1;33m\u001b[0m\u001b[0m\n\u001b[0m\u001b[0;32m      4\u001b[0m \u001b[1;33m\u001b[0m\u001b[0m\n\u001b[0;32m      5\u001b[0m \u001b[0mcv_scores\u001b[0m \u001b[1;33m=\u001b[0m \u001b[0mcross_val_score\u001b[0m\u001b[1;33m(\u001b[0m\u001b[0mrfcv\u001b[0m\u001b[1;33m,\u001b[0m \u001b[0mX\u001b[0m\u001b[1;33m,\u001b[0m \u001b[0my\u001b[0m\u001b[1;33m,\u001b[0m \u001b[0mscoring\u001b[0m\u001b[1;33m=\u001b[0m\u001b[1;34m'roc_auc'\u001b[0m\u001b[1;33m,\u001b[0m \u001b[0mcv\u001b[0m\u001b[1;33m=\u001b[0m\u001b[1;36m10\u001b[0m\u001b[1;33m,\u001b[0m \u001b[0mn_jobs\u001b[0m\u001b[1;33m=\u001b[0m\u001b[1;33m-\u001b[0m\u001b[1;36m1\u001b[0m\u001b[1;33m)\u001b[0m\u001b[1;33m\u001b[0m\u001b[1;33m\u001b[0m\u001b[0m\n",
      "\u001b[1;32mc:\\users\\lab7701\\pycharmprojects\\coursework\\statistic\\lib\\site-packages\\sklearn\\utils\\validation.py\u001b[0m in \u001b[0;36minner_f\u001b[1;34m(*args, **kwargs)\u001b[0m\n\u001b[0;32m     70\u001b[0m                           FutureWarning)\n\u001b[0;32m     71\u001b[0m         \u001b[0mkwargs\u001b[0m\u001b[1;33m.\u001b[0m\u001b[0mupdate\u001b[0m\u001b[1;33m(\u001b[0m\u001b[1;33m{\u001b[0m\u001b[0mk\u001b[0m\u001b[1;33m:\u001b[0m \u001b[0marg\u001b[0m \u001b[1;32mfor\u001b[0m \u001b[0mk\u001b[0m\u001b[1;33m,\u001b[0m \u001b[0marg\u001b[0m \u001b[1;32min\u001b[0m \u001b[0mzip\u001b[0m\u001b[1;33m(\u001b[0m\u001b[0msig\u001b[0m\u001b[1;33m.\u001b[0m\u001b[0mparameters\u001b[0m\u001b[1;33m,\u001b[0m \u001b[0margs\u001b[0m\u001b[1;33m)\u001b[0m\u001b[1;33m}\u001b[0m\u001b[1;33m)\u001b[0m\u001b[1;33m\u001b[0m\u001b[1;33m\u001b[0m\u001b[0m\n\u001b[1;32m---> 72\u001b[1;33m         \u001b[1;32mreturn\u001b[0m \u001b[0mf\u001b[0m\u001b[1;33m(\u001b[0m\u001b[1;33m**\u001b[0m\u001b[0mkwargs\u001b[0m\u001b[1;33m)\u001b[0m\u001b[1;33m\u001b[0m\u001b[1;33m\u001b[0m\u001b[0m\n\u001b[0m\u001b[0;32m     73\u001b[0m     \u001b[1;32mreturn\u001b[0m \u001b[0minner_f\u001b[0m\u001b[1;33m\u001b[0m\u001b[1;33m\u001b[0m\u001b[0m\n\u001b[0;32m     74\u001b[0m \u001b[1;33m\u001b[0m\u001b[0m\n",
      "\u001b[1;31mTypeError\u001b[0m: __init__() got an unexpected keyword argument 'presort'"
     ]
    }
   ],
   "source": [
    "# значение к метрике на кроссвалидации коррелирует к метрике на степике\n",
    "\n",
    "rfcv = RandomForestClassifier(**best_clf.get_params())\n",
    "\n",
    "cv_scores = cross_val_score(rfcv, X, y, scoring='roc_auc', cv=10, n_jobs=-1)\n",
    "mean_cv_scores = np.mean(cv_scores)\n",
    "print ('mean score', mean_cv_scores)"
   ]
  },
  {
   "cell_type": "code",
   "execution_count": 45,
   "metadata": {},
   "outputs": [],
   "source": [
    "def create_report(user_ids, preds):\n",
    "    res = pd.DataFrame(preds[:, np.newaxis], columns=['is_gone'], index=user_ids)\n",
    "    return res.reset_index()\n",
    "\n",
    "\n",
    "def save_report(rep, submit_num=None):\n",
    "    submit_str = \"\"\n",
    "    if submit_num:\n",
    "        submit_str = f\"_submit_{submit_num}\"\n",
    "    fname = f\"predict_{datetime.datetime.now():%Y-%m-%d}{submit_str}.csv\"\n",
    "    rep.to_csv(fname, index=False)\n",
    "    return fname"
   ]
  },
  {
   "cell_type": "code",
   "execution_count": 185,
   "metadata": {},
   "outputs": [
    {
     "name": "stdout",
     "output_type": "stream",
     "text": [
      "Прогноз сохранен в файл  predict_2020-11-23_submit_2.csv\n",
      "Распределение \"вероятностей\" модели\n"
     ]
    },
    {
     "data": {
      "text/plain": [
       "(-0.000527, 0.0815]    4042\n",
       "(0.0815, 0.163]        1033\n",
       "(0.163, 0.244]          334\n",
       "(0.244, 0.325]          197\n",
       "(0.325, 0.406]          203\n",
       "(0.406, 0.488]          203\n",
       "(0.488, 0.569]           93\n",
       "(0.569, 0.65]            34\n",
       "(0.65, 0.731]            32\n",
       "(0.731, 0.812]           13\n",
       "dtype: int64"
      ]
     },
     "execution_count": 185,
     "metadata": {},
     "output_type": "execute_result"
    }
   ],
   "source": [
    "SUBMIT_NUM = 2\n",
    "\n",
    "events_pred  = pd.read_csv(f\"../events_data_test.csv\")\n",
    "submissions_pred = pd.read_csv(f\"../submission_data_test.csv\")\n",
    "X_pred , _ = get_labels_metrics(events_pred, submissions_pred)\n",
    "\n",
    "pred_proba = bag_model2.predict_proba(X_pred)[:, 1]\n",
    "rep_df = create_report(X_pred.index, pred_proba)\n",
    "assert rep_df.user_id.nunique() == X_pred.index.nunique()\n",
    "print ('Прогноз сохранен в файл ', save_report(rep_df, SUBMIT_NUM))\n",
    "\n",
    "print ('Распределение \"вероятностей\" модели')\n",
    "pd.cut(pred_proba, 10).value_counts()"
   ]
  },
  {
   "cell_type": "code",
   "execution_count": null,
   "metadata": {},
   "outputs": [],
   "source": []
  }
 ],
 "metadata": {
  "kernelspec": {
   "display_name": "Python 3",
   "language": "python",
   "name": "python3"
  },
  "language_info": {
   "codemirror_mode": {
    "name": "ipython",
    "version": 3
   },
   "file_extension": ".py",
   "mimetype": "text/x-python",
   "name": "python",
   "nbconvert_exporter": "python",
   "pygments_lexer": "ipython3",
   "version": "3.7.5"
  }
 },
 "nbformat": 4,
 "nbformat_minor": 4
}
